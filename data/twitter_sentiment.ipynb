{
 "cells": [
  {
   "cell_type": "markdown",
   "metadata": {},
   "source": [
    "# Download Twitter Data for Sentiment Analysis"
   ]
  },
  {
   "cell_type": "markdown",
   "metadata": {},
   "source": [
    "We use a dataset that contains 1.6 million training and 350 test tweets from 2009 with algorithmically assigned binary positive and negative sentiment scores that are fairly evenly split."
   ]
  },
  {
   "cell_type": "code",
   "execution_count": 1,
   "metadata": {
    "ExecuteTime": {
     "end_time": "2024-05-30T21:08:45.306815Z",
     "start_time": "2024-05-30T21:08:45.113382Z"
    }
   },
   "outputs": [],
   "source": [
    "from pathlib import Path\n",
    "import requests\n",
    "from io import BytesIO\n",
    "from zipfile import ZipFile"
   ]
  },
  {
   "cell_type": "markdown",
   "metadata": {},
   "source": [
    "## Download and unzip"
   ]
  },
  {
   "cell_type": "markdown",
   "metadata": {},
   "source": [
    "Download the data from [here](http://cs.stanford.edu/people/alecmgo/trainingandtestdata.zip)."
   ]
  },
  {
   "cell_type": "markdown",
   "metadata": {},
   "source": [
    "The following code downloads and extracts the content of the compressed file and stores it in 'sentiment140', while renaming the content as follows:\n",
    "- `training.1600000.processed.noemoticon.csv` to `train.csv`, and\n",
    "- `testdata.manual.2009.06.14.csv` to `test.csv`"
   ]
  },
  {
   "cell_type": "code",
   "execution_count": 2,
   "metadata": {
    "ExecuteTime": {
     "end_time": "2024-05-30T21:08:45.311247Z",
     "start_time": "2024-05-30T21:08:45.308285Z"
    }
   },
   "outputs": [],
   "source": [
    "path = Path('sentiment140')\n",
    "if not path.exists():\n",
    "    path.mkdir()"
   ]
  },
  {
   "cell_type": "code",
   "execution_count": 3,
   "metadata": {
    "ExecuteTime": {
     "end_time": "2024-05-30T21:08:45.315021Z",
     "start_time": "2024-05-30T21:08:45.312515Z"
    }
   },
   "outputs": [],
   "source": [
    "URL = 'http://cs.stanford.edu/people/alecmgo/trainingandtestdata.zip'"
   ]
  },
  {
   "cell_type": "code",
   "execution_count": 4,
   "metadata": {
    "ExecuteTime": {
     "end_time": "2024-05-30T21:08:46.883626Z",
     "start_time": "2024-05-30T21:08:45.316524Z"
    }
   },
   "outputs": [],
   "source": [
    "response = requests.get(URL).content"
   ]
  },
  {
   "cell_type": "code",
   "execution_count": 5,
   "metadata": {
    "ExecuteTime": {
     "end_time": "2024-05-30T21:08:47.799942Z",
     "start_time": "2024-05-30T21:08:46.885661Z"
    }
   },
   "outputs": [
    {
     "ename": "BadZipFile",
     "evalue": "File is not a zip file",
     "output_type": "error",
     "traceback": [
      "\u001B[0;31m---------------------------------------------------------------------------\u001B[0m",
      "\u001B[0;31mBadZipFile\u001B[0m                                Traceback (most recent call last)",
      "Cell \u001B[0;32mIn[5], line 1\u001B[0m\n\u001B[0;32m----> 1\u001B[0m \u001B[38;5;28;01mwith\u001B[39;00m \u001B[43mZipFile\u001B[49m\u001B[43m(\u001B[49m\u001B[43mBytesIO\u001B[49m\u001B[43m(\u001B[49m\u001B[43mresponse\u001B[49m\u001B[43m)\u001B[49m\u001B[43m)\u001B[49m \u001B[38;5;28;01mas\u001B[39;00m zip_file:\n\u001B[1;32m      2\u001B[0m     \u001B[38;5;28;01mfor\u001B[39;00m i, file \u001B[38;5;129;01min\u001B[39;00m \u001B[38;5;28menumerate\u001B[39m(zip_file\u001B[38;5;241m.\u001B[39mnamelist()):\n\u001B[1;32m      3\u001B[0m         \u001B[38;5;28;01mif\u001B[39;00m file\u001B[38;5;241m.\u001B[39mstartswith(\u001B[38;5;124m'\u001B[39m\u001B[38;5;124mtrain\u001B[39m\u001B[38;5;124m'\u001B[39m):\n",
      "File \u001B[0;32m/opt/anaconda3/envs/ml4t/lib/python3.8/zipfile.py:1271\u001B[0m, in \u001B[0;36mZipFile.__init__\u001B[0;34m(self, file, mode, compression, allowZip64, compresslevel, strict_timestamps)\u001B[0m\n\u001B[1;32m   1269\u001B[0m \u001B[38;5;28;01mtry\u001B[39;00m:\n\u001B[1;32m   1270\u001B[0m     \u001B[38;5;28;01mif\u001B[39;00m mode \u001B[38;5;241m==\u001B[39m \u001B[38;5;124m'\u001B[39m\u001B[38;5;124mr\u001B[39m\u001B[38;5;124m'\u001B[39m:\n\u001B[0;32m-> 1271\u001B[0m         \u001B[38;5;28;43mself\u001B[39;49m\u001B[38;5;241;43m.\u001B[39;49m\u001B[43m_RealGetContents\u001B[49m\u001B[43m(\u001B[49m\u001B[43m)\u001B[49m\n\u001B[1;32m   1272\u001B[0m     \u001B[38;5;28;01melif\u001B[39;00m mode \u001B[38;5;129;01min\u001B[39;00m (\u001B[38;5;124m'\u001B[39m\u001B[38;5;124mw\u001B[39m\u001B[38;5;124m'\u001B[39m, \u001B[38;5;124m'\u001B[39m\u001B[38;5;124mx\u001B[39m\u001B[38;5;124m'\u001B[39m):\n\u001B[1;32m   1273\u001B[0m         \u001B[38;5;66;03m# set the modified flag so central directory gets written\u001B[39;00m\n\u001B[1;32m   1274\u001B[0m         \u001B[38;5;66;03m# even if no files are added to the archive\u001B[39;00m\n\u001B[1;32m   1275\u001B[0m         \u001B[38;5;28mself\u001B[39m\u001B[38;5;241m.\u001B[39m_didModify \u001B[38;5;241m=\u001B[39m \u001B[38;5;28;01mTrue\u001B[39;00m\n",
      "File \u001B[0;32m/opt/anaconda3/envs/ml4t/lib/python3.8/zipfile.py:1338\u001B[0m, in \u001B[0;36mZipFile._RealGetContents\u001B[0;34m(self)\u001B[0m\n\u001B[1;32m   1336\u001B[0m     \u001B[38;5;28;01mraise\u001B[39;00m BadZipFile(\u001B[38;5;124m\"\u001B[39m\u001B[38;5;124mFile is not a zip file\u001B[39m\u001B[38;5;124m\"\u001B[39m)\n\u001B[1;32m   1337\u001B[0m \u001B[38;5;28;01mif\u001B[39;00m \u001B[38;5;129;01mnot\u001B[39;00m endrec:\n\u001B[0;32m-> 1338\u001B[0m     \u001B[38;5;28;01mraise\u001B[39;00m BadZipFile(\u001B[38;5;124m\"\u001B[39m\u001B[38;5;124mFile is not a zip file\u001B[39m\u001B[38;5;124m\"\u001B[39m)\n\u001B[1;32m   1339\u001B[0m \u001B[38;5;28;01mif\u001B[39;00m \u001B[38;5;28mself\u001B[39m\u001B[38;5;241m.\u001B[39mdebug \u001B[38;5;241m>\u001B[39m \u001B[38;5;241m1\u001B[39m:\n\u001B[1;32m   1340\u001B[0m     \u001B[38;5;28mprint\u001B[39m(endrec)\n",
      "\u001B[0;31mBadZipFile\u001B[0m: File is not a zip file"
     ]
    }
   ],
   "source": [
    "with ZipFile(BytesIO(response)) as zip_file:\n",
    "    for i, file in enumerate(zip_file.namelist()):\n",
    "        if file.startswith('train'):\n",
    "            local_file = path / 'train.csv'\n",
    "        elif file.startswith('test'):\n",
    "            local_file = path / 'test.csv'\n",
    "        else:\n",
    "            continue\n",
    "        with local_file.open('wb') as output:\n",
    "            for line in zip_file.open(file).readlines():\n",
    "                output.write(line)"
   ]
  }
 ],
 "metadata": {
  "kernelspec": {
   "display_name": "Python [conda env:ml4t] *",
   "language": "python",
   "name": "conda-env-ml4t-py"
  },
  "language_info": {
   "codemirror_mode": {
    "name": "ipython",
    "version": 3
   },
   "file_extension": ".py",
   "mimetype": "text/x-python",
   "name": "python",
   "nbconvert_exporter": "python",
   "pygments_lexer": "ipython3",
   "version": "3.7.7"
  },
  "toc": {
   "base_numbering": 1,
   "nav_menu": {},
   "number_sections": true,
   "sideBar": true,
   "skip_h1_title": false,
   "title_cell": "Table of Contents",
   "title_sidebar": "Contents",
   "toc_cell": false,
   "toc_position": {},
   "toc_section_display": true,
   "toc_window_display": false
  }
 },
 "nbformat": 4,
 "nbformat_minor": 4
}
