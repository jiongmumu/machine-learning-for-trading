{
 "cells": [
  {
   "cell_type": "markdown",
   "metadata": {
    "slideshow": {
     "slide_type": "slide"
    }
   },
   "source": [
    "# From tokens to numbers: the document-term matrix"
   ]
  },
  {
   "cell_type": "markdown",
   "metadata": {},
   "source": [
    "The bag of words model represents a document based on the frequency of the terms or tokens it contains. Each document becomes a vector with one entry for each token in the vocabulary that reflects the token’s relevance to the document.\n",
    "\n",
    "The document-term matrix is straightforward to compute given the vocabulary. However, it is also a crude simplification because it abstracts from word order and grammatical relationships. Nonetheless, it often achieves good results in text classification quickly and, thus, a very useful starting point.\n",
    "\n",
    "There are several ways to weigh a token’s vector entry to capture its relevance to the document. We will illustrate below how to use sklearn to use binary flags that indicate presence or absence, counts, and weighted counts that account for differences in term frequencies across all documents, i.e., in the corpus. "
   ]
  },
  {
   "cell_type": "markdown",
   "metadata": {},
   "source": [
    "## Imports & Settings"
   ]
  },
  {
   "cell_type": "code",
   "execution_count": 1,
   "metadata": {
    "ExecuteTime": {
     "end_time": "2024-05-30T20:25:49.870003Z",
     "start_time": "2024-05-30T20:25:49.867504Z"
    }
   },
   "outputs": [],
   "source": [
    "import warnings\n",
    "warnings.filterwarnings('ignore')"
   ]
  },
  {
   "cell_type": "code",
   "execution_count": 1,
   "metadata": {
    "slideshow": {
     "slide_type": "fragment"
    },
    "ExecuteTime": {
     "end_time": "2024-05-30T20:28:10.305586Z",
     "start_time": "2024-05-30T20:28:09.525380Z"
    }
   },
   "outputs": [],
   "source": [
    "%matplotlib inline\n",
    "\n",
    "from collections import Counter\n",
    "from pathlib import Path\n",
    "\n",
    "import numpy as np\n",
    "import pandas as pd\n",
    "from scipy import sparse\n",
    "from scipy.spatial.distance import pdist\n",
    "\n",
    "# Visualization\n",
    "import matplotlib.pyplot as plt\n",
    "from matplotlib.ticker import ScalarFormatter\n",
    "import seaborn as sns\n",
    "from ipywidgets import interact, FloatRangeSlider\n",
    "\n",
    "# spacy for language processing\n",
    "import spacy\n",
    "\n",
    "# sklearn for feature extraction & modeling\n",
    "from sklearn.feature_extraction.text import CountVectorizer, TfidfVectorizer, TfidfTransformer\n",
    "from sklearn.model_selection import train_test_split"
   ]
  },
  {
   "cell_type": "code",
   "execution_count": 2,
   "metadata": {
    "ExecuteTime": {
     "end_time": "2024-05-30T20:28:10.309665Z",
     "start_time": "2024-05-30T20:28:10.306947Z"
    }
   },
   "outputs": [],
   "source": [
    "sns.set_style('white')"
   ]
  },
  {
   "cell_type": "markdown",
   "metadata": {
    "slideshow": {
     "slide_type": "skip"
    }
   },
   "source": [
    "## Load BBC data"
   ]
  },
  {
   "cell_type": "code",
   "execution_count": 3,
   "metadata": {
    "slideshow": {
     "slide_type": "skip"
    },
    "ExecuteTime": {
     "end_time": "2024-05-30T20:28:10.443138Z",
     "start_time": "2024-05-30T20:28:10.311057Z"
    }
   },
   "outputs": [],
   "source": [
    "path = Path('..', 'data', 'bbc')\n",
    "files = sorted(list(path.glob('**/*.txt')))\n",
    "doc_list = []\n",
    "for i, file in enumerate(files):\n",
    "    topic = file.parts[-2]\n",
    "    article = file.read_text(encoding='latin1').split('\\n')\n",
    "    heading = article[0].strip()\n",
    "    body = ' '.join([l.strip() for l in article[1:]]).strip()\n",
    "    doc_list.append([topic, heading, body])"
   ]
  },
  {
   "cell_type": "markdown",
   "metadata": {
    "slideshow": {
     "slide_type": "skip"
    }
   },
   "source": [
    "### Convert to DataFrame"
   ]
  },
  {
   "cell_type": "code",
   "execution_count": 4,
   "metadata": {
    "slideshow": {
     "slide_type": "skip"
    },
    "ExecuteTime": {
     "end_time": "2024-05-30T20:28:10.453485Z",
     "start_time": "2024-05-30T20:28:10.444446Z"
    }
   },
   "outputs": [
    {
     "name": "stdout",
     "output_type": "stream",
     "text": [
      "<class 'pandas.core.frame.DataFrame'>\n",
      "RangeIndex: 2225 entries, 0 to 2224\n",
      "Data columns (total 3 columns):\n",
      " #   Column   Non-Null Count  Dtype \n",
      "---  ------   --------------  ----- \n",
      " 0   topic    2225 non-null   object\n",
      " 1   heading  2225 non-null   object\n",
      " 2   body     2225 non-null   object\n",
      "dtypes: object(3)\n",
      "memory usage: 52.3+ KB\n"
     ]
    }
   ],
   "source": [
    "docs = pd.DataFrame(doc_list, columns=['topic', 'heading', 'body'])\n",
    "docs.info()"
   ]
  },
  {
   "cell_type": "markdown",
   "metadata": {
    "slideshow": {
     "slide_type": "slide"
    }
   },
   "source": [
    "### Inspect results"
   ]
  },
  {
   "cell_type": "code",
   "execution_count": 5,
   "metadata": {
    "slideshow": {
     "slide_type": "fragment"
    },
    "ExecuteTime": {
     "end_time": "2024-05-30T20:28:10.465350Z",
     "start_time": "2024-05-30T20:28:10.454768Z"
    }
   },
   "outputs": [
    {
     "data": {
      "text/plain": "              topic                            heading  \\\n926        politics    Blunkett sorry over murder plan   \n1144       politics  No election TV debate, says Blair   \n977        politics           Labour's 'EU propaganda'   \n806   entertainment   Fockers keeps US box office lead   \n1427          sport    Giggs handed Wales leading role   \n827   entertainment   Roxy Music on Isle of Wight bill   \n1202       politics  Conservative MP defects to Labour   \n847   entertainment   Howl helps boost Japan's cinemas   \n263        business    French suitor holds LSE meeting   \n2177           tech  The pirates with no profit motive   \n\n                                                   body  \n926   David Blunkett has apologised to MPs after the...  \n1144  Tony Blair has said he will not take part in a...  \n977   A \"taxpayer subsidised propaganda exercise\" on...  \n806   Film comedy Meet The Fockers, sequel to Meet T...  \n1427  Ryan Giggs will captain Wales as he wins his 5...  \n827   Roxy Music will appear at June's Isle of Wight...  \n1202  A Conservative MP and former minister has defe...  \n847   Japan's box office received a 3.8% boost last ...  \n263   European stock market Euronext has met with th...  \n2177  Two men who were part of a huge network of int...  ",
      "text/html": "<div>\n<style scoped>\n    .dataframe tbody tr th:only-of-type {\n        vertical-align: middle;\n    }\n\n    .dataframe tbody tr th {\n        vertical-align: top;\n    }\n\n    .dataframe thead th {\n        text-align: right;\n    }\n</style>\n<table border=\"1\" class=\"dataframe\">\n  <thead>\n    <tr style=\"text-align: right;\">\n      <th></th>\n      <th>topic</th>\n      <th>heading</th>\n      <th>body</th>\n    </tr>\n  </thead>\n  <tbody>\n    <tr>\n      <th>926</th>\n      <td>politics</td>\n      <td>Blunkett sorry over murder plan</td>\n      <td>David Blunkett has apologised to MPs after the...</td>\n    </tr>\n    <tr>\n      <th>1144</th>\n      <td>politics</td>\n      <td>No election TV debate, says Blair</td>\n      <td>Tony Blair has said he will not take part in a...</td>\n    </tr>\n    <tr>\n      <th>977</th>\n      <td>politics</td>\n      <td>Labour's 'EU propaganda'</td>\n      <td>A \"taxpayer subsidised propaganda exercise\" on...</td>\n    </tr>\n    <tr>\n      <th>806</th>\n      <td>entertainment</td>\n      <td>Fockers keeps US box office lead</td>\n      <td>Film comedy Meet The Fockers, sequel to Meet T...</td>\n    </tr>\n    <tr>\n      <th>1427</th>\n      <td>sport</td>\n      <td>Giggs handed Wales leading role</td>\n      <td>Ryan Giggs will captain Wales as he wins his 5...</td>\n    </tr>\n    <tr>\n      <th>827</th>\n      <td>entertainment</td>\n      <td>Roxy Music on Isle of Wight bill</td>\n      <td>Roxy Music will appear at June's Isle of Wight...</td>\n    </tr>\n    <tr>\n      <th>1202</th>\n      <td>politics</td>\n      <td>Conservative MP defects to Labour</td>\n      <td>A Conservative MP and former minister has defe...</td>\n    </tr>\n    <tr>\n      <th>847</th>\n      <td>entertainment</td>\n      <td>Howl helps boost Japan's cinemas</td>\n      <td>Japan's box office received a 3.8% boost last ...</td>\n    </tr>\n    <tr>\n      <th>263</th>\n      <td>business</td>\n      <td>French suitor holds LSE meeting</td>\n      <td>European stock market Euronext has met with th...</td>\n    </tr>\n    <tr>\n      <th>2177</th>\n      <td>tech</td>\n      <td>The pirates with no profit motive</td>\n      <td>Two men who were part of a huge network of int...</td>\n    </tr>\n  </tbody>\n</table>\n</div>"
     },
     "execution_count": 5,
     "metadata": {},
     "output_type": "execute_result"
    }
   ],
   "source": [
    "docs.sample(10)"
   ]
  },
  {
   "cell_type": "markdown",
   "metadata": {
    "slideshow": {
     "slide_type": "slide"
    }
   },
   "source": [
    "### Data drawn from 5 different categories"
   ]
  },
  {
   "cell_type": "code",
   "execution_count": 6,
   "metadata": {
    "slideshow": {
     "slide_type": "fragment"
    },
    "ExecuteTime": {
     "end_time": "2024-05-30T20:28:10.502396Z",
     "start_time": "2024-05-30T20:28:10.466561Z"
    }
   },
   "outputs": [
    {
     "data": {
      "text/plain": "<pandas.io.formats.style.Styler at 0x7fb8a856fc70>",
      "text/html": "<style type=\"text/css\">\n</style>\n<table id=\"T_5cb33\">\n  <thead>\n    <tr>\n      <th class=\"blank level0\" >&nbsp;</th>\n      <th id=\"T_5cb33_level0_col0\" class=\"col_heading level0 col0\" >count</th>\n    </tr>\n    <tr>\n      <th class=\"index_name level0\" >topic</th>\n      <th class=\"blank col0\" >&nbsp;</th>\n    </tr>\n  </thead>\n  <tbody>\n    <tr>\n      <th id=\"T_5cb33_level0_row0\" class=\"row_heading level0 row0\" >sport</th>\n      <td id=\"T_5cb33_row0_col0\" class=\"data row0 col0\" >22.97%</td>\n    </tr>\n    <tr>\n      <th id=\"T_5cb33_level0_row1\" class=\"row_heading level0 row1\" >business</th>\n      <td id=\"T_5cb33_row1_col0\" class=\"data row1 col0\" >22.92%</td>\n    </tr>\n    <tr>\n      <th id=\"T_5cb33_level0_row2\" class=\"row_heading level0 row2\" >politics</th>\n      <td id=\"T_5cb33_row2_col0\" class=\"data row2 col0\" >18.74%</td>\n    </tr>\n    <tr>\n      <th id=\"T_5cb33_level0_row3\" class=\"row_heading level0 row3\" >tech</th>\n      <td id=\"T_5cb33_row3_col0\" class=\"data row3 col0\" >18.02%</td>\n    </tr>\n    <tr>\n      <th id=\"T_5cb33_level0_row4\" class=\"row_heading level0 row4\" >entertainment</th>\n      <td id=\"T_5cb33_row4_col0\" class=\"data row4 col0\" >17.35%</td>\n    </tr>\n  </tbody>\n</table>\n"
     },
     "execution_count": 6,
     "metadata": {},
     "output_type": "execute_result"
    }
   ],
   "source": [
    "docs.topic.value_counts(normalize=True).to_frame('count').style.format({'count': '{:,.2%}'.format})"
   ]
  },
  {
   "cell_type": "markdown",
   "metadata": {},
   "source": [
    "## Explore Corpus"
   ]
  },
  {
   "cell_type": "markdown",
   "metadata": {},
   "source": [
    "### Token Count via Counter()"
   ]
  },
  {
   "cell_type": "code",
   "execution_count": 7,
   "metadata": {
    "slideshow": {
     "slide_type": "fragment"
    },
    "ExecuteTime": {
     "end_time": "2024-05-30T20:28:10.586027Z",
     "start_time": "2024-05-30T20:28:10.503512Z"
    }
   },
   "outputs": [
    {
     "name": "stdout",
     "output_type": "stream",
     "text": [
      "Total word count: 842,910 | per article: 379\n"
     ]
    }
   ],
   "source": [
    "# word count\n",
    "word_count = docs.body.str.split().str.len().sum()\n",
    "print(f'Total word count: {word_count:,d} | per article: {word_count/len(docs):,.0f}')"
   ]
  },
  {
   "cell_type": "code",
   "execution_count": 8,
   "metadata": {
    "ExecuteTime": {
     "end_time": "2024-05-30T20:28:10.792413Z",
     "start_time": "2024-05-30T20:28:10.587231Z"
    }
   },
   "outputs": [
    {
     "name": "stdout",
     "output_type": "stream",
     "text": [
      "500 1000 1500 2000 "
     ]
    }
   ],
   "source": [
    "token_count = Counter()\n",
    "for i, doc in enumerate(docs.body.tolist(), 1):\n",
    "    if i % 500 == 0:\n",
    "        print(i, end=' ', flush=True)\n",
    "    token_count.update([t.strip() for t in doc.split()])"
   ]
  },
  {
   "cell_type": "code",
   "execution_count": 9,
   "metadata": {
    "ExecuteTime": {
     "end_time": "2024-05-30T20:28:10.846370Z",
     "start_time": "2024-05-30T20:28:10.793742Z"
    }
   },
   "outputs": [],
   "source": [
    "tokens = (pd.DataFrame(token_count.most_common(), columns=['token', 'count'])\n",
    "          .set_index('token')\n",
    "          .squeeze())"
   ]
  },
  {
   "cell_type": "code",
   "execution_count": 10,
   "metadata": {
    "ExecuteTime": {
     "end_time": "2024-05-30T20:28:12.151330Z",
     "start_time": "2024-05-30T20:28:10.852138Z"
    }
   },
   "outputs": [
    {
     "data": {
      "text/plain": "<Figure size 1400x400 with 1 Axes>",
      "image/png": "[encoded data removed]"
     },
     "metadata": {},
     "output_type": "display_data"
    }
   ],
   "source": [
    "n = 50\n",
    "(tokens\n",
    " .iloc[:50]\n",
    " .plot\n",
    " .bar(figsize=(14, 4), title=f'Most frequent {n} of {len(tokens):,d} tokens'))\n",
    "sns.despine()\n",
    "plt.tight_layout();"
   ]
  },
  {
   "cell_type": "markdown",
   "metadata": {
    "slideshow": {
     "slide_type": "slide"
    }
   },
   "source": [
    "## Document-Term Matrix with `CountVectorizer`"
   ]
  },
  {
   "cell_type": "markdown",
   "metadata": {},
   "source": [
    "The scikit-learn preprocessing module offers two tools to create a document-term matrix. The [CountVectorizer](http://scikit-learn.org/stable/modules/generated/sklearn.feature_extraction.text.CountVectorizer.html) uses binary or absolute counts to measure the term frequency tf(d, t) for each document d and token t.\n",
    "\n",
    "The [TfIDFVectorizer](https://scikit-learn.org/stable/modules/generated/sklearn.feature_extraction.text.TfidfVectorizer.html), in contrast, weighs the (absolute) term frequency by the inverse document frequency (idf). As a result, a term that appears in more documents will receive a lower weight than a token with the same frequency for a given document but lower frequency across all documents. \n",
    "\n",
    "The resulting tf-idf vectors for each document are normalized with respect to their absolute or squared totals (see the sklearn documentation for details). The tf-idf measure was originally used in information retrieval to rank search engine results and has subsequently proven useful for text classification or clustering."
   ]
  },
  {
   "cell_type": "markdown",
   "metadata": {},
   "source": [
    "Both tools use the same interface and perform tokenization and further optional preprocessing of a list of documents before vectorizing the text by generating token counts to populate the document-term matrix.\n",
    "\n",
    "Key parameters that affect the size of the vocabulary include:\n",
    "\n",
    "- `stop_words`: use a built-in or provide a list of (frequent) words to exclude\n",
    "- `ngram_range`: include n-grams in a range for n defined by a tuple of (nmin, nmax)\n",
    "- `lowercase`: convert characters accordingly (default is True)\n",
    "- `min_df `/ max_df: ignore words that appear in less / more (int) or a smaller / larger share of documents (if float [0.0,1.0])\n",
    "- `max_features`: limit number of tokens in vocabulary accordingly\n",
    "- `binary`: set non-zero counts to 1 True"
   ]
  },
  {
   "cell_type": "markdown",
   "metadata": {},
   "source": [
    "### Key parameters"
   ]
  },
  {
   "cell_type": "code",
   "execution_count": 11,
   "metadata": {
    "scrolled": false,
    "slideshow": {
     "slide_type": "fragment"
    },
    "ExecuteTime": {
     "end_time": "2024-05-30T20:28:12.157903Z",
     "start_time": "2024-05-30T20:28:12.153463Z"
    }
   },
   "outputs": [
    {
     "name": "stdout",
     "output_type": "stream",
     "text": [
      "Convert a collection of text documents to a matrix of token counts.\n",
      "\n",
      "    This implementation produces a sparse representation of the counts using\n",
      "    scipy.sparse.csr_matrix.\n",
      "\n",
      "    If you do not provide an a-priori dictionary and you do not use an analyzer\n",
      "    that does some kind of feature selection then the number of features will\n",
      "    be equal to the vocabulary size found by analyzing the data.\n",
      "\n",
      "    For an efficiency comparision of the different feature extractors, see\n",
      "    :ref:`sphx_glr_auto_examples_text_plot_hashing_vs_dict_vectorizer.py`.\n",
      "\n",
      "    Read more in the :ref:`User Guide <text_feature_extraction>`.\n",
      "\n",
      "    Parameters\n",
      "    ----------\n",
      "    input : {'filename', 'file', 'content'}, default='content'\n",
      "        - If `'filename'`, the sequence passed as an argument to fit is\n",
      "          expected to be a list of filenames that need reading to fetch\n",
      "          the raw content to analyze.\n",
      "\n",
      "        - If `'file'`, the sequence items must have a 'read' method (file-like\n",
      "          object) that is called to fetch the bytes in memory.\n",
      "\n",
      "        - If `'content'`, the input is expected to be a sequence of items that\n",
      "          can be of type string or byte.\n",
      "\n",
      "    encoding : str, default='utf-8'\n",
      "        If bytes or files are given to analyze, this encoding is used to\n",
      "        decode.\n",
      "\n",
      "    decode_error : {'strict', 'ignore', 'replace'}, default='strict'\n",
      "        Instruction on what to do if a byte sequence is given to analyze that\n",
      "        contains characters not of the given `encoding`. By default, it is\n",
      "        'strict', meaning that a UnicodeDecodeError will be raised. Other\n",
      "        values are 'ignore' and 'replace'.\n",
      "\n",
      "    strip_accents : {'ascii', 'unicode'} or callable, default=None\n",
      "        Remove accents and perform other character normalization\n",
      "        during the preprocessing step.\n",
      "        'ascii' is a fast method that only works on characters that have\n",
      "        a direct ASCII mapping.\n",
      "        'unicode' is a slightly slower method that works on any characters.\n",
      "        None (default) means no character normalization is performed.\n",
      "\n",
      "        Both 'ascii' and 'unicode' use NFKD normalization from\n",
      "        :func:`unicodedata.normalize`.\n",
      "\n",
      "    lowercase : bool, default=True\n",
      "        Convert all characters to lowercase before tokenizing.\n",
      "\n",
      "    preprocessor : callable, default=None\n",
      "        Override the preprocessing (strip_accents and lowercase) stage while\n",
      "        preserving the tokenizing and n-grams generation steps.\n",
      "        Only applies if ``analyzer`` is not callable.\n",
      "\n",
      "    tokenizer : callable, default=None\n",
      "        Override the string tokenization step while preserving the\n",
      "        preprocessing and n-grams generation steps.\n",
      "        Only applies if ``analyzer == 'word'``.\n",
      "\n",
      "    stop_words : {'english'}, list, default=None\n",
      "        If 'english', a built-in stop word list for English is used.\n",
      "        There are several known issues with 'english' and you should\n",
      "        consider an alternative (see :ref:`stop_words`).\n",
      "\n",
      "        If a list, that list is assumed to contain stop words, all of which\n",
      "        will be removed from the resulting tokens.\n",
      "        Only applies if ``analyzer == 'word'``.\n",
      "\n",
      "        If None, no stop words will be used. In this case, setting `max_df`\n",
      "        to a higher value, such as in the range (0.7, 1.0), can automatically detect\n",
      "        and filter stop words based on intra corpus document frequency of terms.\n",
      "\n",
      "    token_pattern : str or None, default=r\"(?u)\\\\b\\\\w\\\\w+\\\\b\"\n",
      "        Regular expression denoting what constitutes a \"token\", only used\n",
      "        if ``analyzer == 'word'``. The default regexp select tokens of 2\n",
      "        or more alphanumeric characters (punctuation is completely ignored\n",
      "        and always treated as a token separator).\n",
      "\n",
      "        If there is a capturing group in token_pattern then the\n",
      "        captured group content, not the entire match, becomes the token.\n",
      "        At most one capturing group is permitted.\n",
      "\n",
      "    ngram_range : tuple (min_n, max_n), default=(1, 1)\n",
      "        The lower and upper boundary of the range of n-values for different\n",
      "        word n-grams or char n-grams to be extracted. All values of n such\n",
      "        such that min_n <= n <= max_n will be used. For example an\n",
      "        ``ngram_range`` of ``(1, 1)`` means only unigrams, ``(1, 2)`` means\n",
      "        unigrams and bigrams, and ``(2, 2)`` means only bigrams.\n",
      "        Only applies if ``analyzer`` is not callable.\n",
      "\n",
      "    analyzer : {'word', 'char', 'char_wb'} or callable, default='word'\n",
      "        Whether the feature should be made of word n-gram or character\n",
      "        n-grams.\n",
      "        Option 'char_wb' creates character n-grams only from text inside\n",
      "        word boundaries; n-grams at the edges of words are padded with space.\n",
      "\n",
      "        If a callable is passed it is used to extract the sequence of features\n",
      "        out of the raw, unprocessed input.\n",
      "\n",
      "        .. versionchanged:: 0.21\n",
      "\n",
      "        Since v0.21, if ``input`` is ``filename`` or ``file``, the data is\n",
      "        first read from the file and then passed to the given callable\n",
      "        analyzer.\n",
      "\n",
      "    max_df : float in range [0.0, 1.0] or int, default=1.0\n",
      "        When building the vocabulary ignore terms that have a document\n",
      "        frequency strictly higher than the given threshold (corpus-specific\n",
      "        stop words).\n",
      "        If float, the parameter represents a proportion of documents, integer\n",
      "        absolute counts.\n",
      "        This parameter is ignored if vocabulary is not None.\n",
      "\n",
      "    min_df : float in range [0.0, 1.0] or int, default=1\n",
      "        When building the vocabulary ignore terms that have a document\n",
      "        frequency strictly lower than the given threshold. This value is also\n",
      "        called cut-off in the literature.\n",
      "        If float, the parameter represents a proportion of documents, integer\n",
      "        absolute counts.\n",
      "        This parameter is ignored if vocabulary is not None.\n",
      "\n",
      "    max_features : int, default=None\n",
      "        If not None, build a vocabulary that only consider the top\n",
      "        `max_features` ordered by term frequency across the corpus.\n",
      "        Otherwise, all features are used.\n",
      "\n",
      "        This parameter is ignored if vocabulary is not None.\n",
      "\n",
      "    vocabulary : Mapping or iterable, default=None\n",
      "        Either a Mapping (e.g., a dict) where keys are terms and values are\n",
      "        indices in the feature matrix, or an iterable over terms. If not\n",
      "        given, a vocabulary is determined from the input documents. Indices\n",
      "        in the mapping should not be repeated and should not have any gap\n",
      "        between 0 and the largest index.\n",
      "\n",
      "    binary : bool, default=False\n",
      "        If True, all non zero counts are set to 1. This is useful for discrete\n",
      "        probabilistic models that model binary events rather than integer\n",
      "        counts.\n",
      "\n",
      "    dtype : dtype, default=np.int64\n",
      "        Type of the matrix returned by fit_transform() or transform().\n",
      "\n",
      "    Attributes\n",
      "    ----------\n",
      "    vocabulary_ : dict\n",
      "        A mapping of terms to feature indices.\n",
      "\n",
      "    fixed_vocabulary_ : bool\n",
      "        True if a fixed vocabulary of term to indices mapping\n",
      "        is provided by the user.\n",
      "\n",
      "    stop_words_ : set\n",
      "        Terms that were ignored because they either:\n",
      "\n",
      "          - occurred in too many documents (`max_df`)\n",
      "          - occurred in too few documents (`min_df`)\n",
      "          - were cut off by feature selection (`max_features`).\n",
      "\n",
      "        This is only available if no vocabulary was given.\n",
      "\n",
      "    See Also\n",
      "    --------\n",
      "    HashingVectorizer : Convert a collection of text documents to a\n",
      "        matrix of token counts.\n",
      "\n",
      "    TfidfVectorizer : Convert a collection of raw documents to a matrix\n",
      "        of TF-IDF features.\n",
      "\n",
      "    Notes\n",
      "    -----\n",
      "    The ``stop_words_`` attribute can get large and increase the model size\n",
      "    when pickling. This attribute is provided only for introspection and can\n",
      "    be safely removed using delattr or set to None before pickling.\n",
      "\n",
      "    Examples\n",
      "    --------\n",
      "    >>> from sklearn.feature_extraction.text import CountVectorizer\n",
      "    >>> corpus = [\n",
      "    ...     'This is the first document.',\n",
      "    ...     'This document is the second document.',\n",
      "    ...     'And this is the third one.',\n",
      "    ...     'Is this the first document?',\n",
      "    ... ]\n",
      "    >>> vectorizer = CountVectorizer()\n",
      "    >>> X = vectorizer.fit_transform(corpus)\n",
      "    >>> vectorizer.get_feature_names_out()\n",
      "    array(['and', 'document', 'first', 'is', 'one', 'second', 'the', 'third',\n",
      "           'this'], ...)\n",
      "    >>> print(X.toarray())\n",
      "    [[0 1 1 1 0 0 1 0 1]\n",
      "     [0 2 0 1 0 1 1 0 1]\n",
      "     [1 0 0 1 1 0 1 1 1]\n",
      "     [0 1 1 1 0 0 1 0 1]]\n",
      "    >>> vectorizer2 = CountVectorizer(analyzer='word', ngram_range=(2, 2))\n",
      "    >>> X2 = vectorizer2.fit_transform(corpus)\n",
      "    >>> vectorizer2.get_feature_names_out()\n",
      "    array(['and this', 'document is', 'first document', 'is the', 'is this',\n",
      "           'second document', 'the first', 'the second', 'the third', 'third one',\n",
      "           'this document', 'this is', 'this the'], ...)\n",
      "     >>> print(X2.toarray())\n",
      "     [[0 0 1 1 0 0 1 0 0 0 0 1 0]\n",
      "     [0 1 0 1 0 1 0 1 0 0 1 0 0]\n",
      "     [1 0 0 1 0 0 0 0 1 1 0 1 0]\n",
      "     [0 0 1 0 1 0 1 0 0 0 0 0 1]]\n",
      "    \n"
     ]
    }
   ],
   "source": [
    "print(CountVectorizer().__doc__)"
   ]
  },
  {
   "cell_type": "markdown",
   "metadata": {},
   "source": [
    "### Document Frequency Distribution"
   ]
  },
  {
   "cell_type": "code",
   "execution_count": 16,
   "metadata": {
    "ExecuteTime": {
     "end_time": "2024-05-30T20:44:48.812850Z",
     "start_time": "2024-05-30T20:44:48.331407Z"
    }
   },
   "outputs": [],
   "source": [
    "binary_vectorizer = CountVectorizer(max_df=1.0,\n",
    "                                    min_df=1,\n",
    "                                    binary=True)\n",
    "\n",
    "binary_dtm = binary_vectorizer.fit_transform(docs.body)"
   ]
  },
  {
   "cell_type": "code",
   "execution_count": 17,
   "metadata": {
    "ExecuteTime": {
     "end_time": "2024-05-30T20:44:48.820068Z",
     "start_time": "2024-05-30T20:44:48.815887Z"
    }
   },
   "outputs": [
    {
     "data": {
      "text/plain": "<2225x29275 sparse matrix of type '<class 'numpy.int64'>'\n\twith 445870 stored elements in Compressed Sparse Row format>"
     },
     "execution_count": 17,
     "metadata": {},
     "output_type": "execute_result"
    }
   ],
   "source": [
    "binary_dtm"
   ]
  },
  {
   "cell_type": "code",
   "execution_count": 18,
   "metadata": {
    "ExecuteTime": {
     "end_time": "2024-05-30T20:44:48.825751Z",
     "start_time": "2024-05-30T20:44:48.822518Z"
    }
   },
   "outputs": [],
   "source": [
    "n_docs, n_tokens = binary_dtm.shape"
   ]
  },
  {
   "cell_type": "code",
   "outputs": [
    {
     "data": {
      "text/plain": "['__annotations__',\n '__class__',\n '__delattr__',\n '__dict__',\n '__dir__',\n '__doc__',\n '__eq__',\n '__format__',\n '__ge__',\n '__getattribute__',\n '__getstate__',\n '__gt__',\n '__hash__',\n '__init__',\n '__init_subclass__',\n '__le__',\n '__lt__',\n '__module__',\n '__ne__',\n '__new__',\n '__reduce__',\n '__reduce_ex__',\n '__repr__',\n '__setattr__',\n '__setstate__',\n '__sizeof__',\n '__sklearn_clone__',\n '__str__',\n '__subclasshook__',\n '__weakref__',\n '_build_request_for_signature',\n '_char_ngrams',\n '_char_wb_ngrams',\n '_check_feature_names',\n '_check_n_features',\n '_check_stop_words_consistency',\n '_check_vocabulary',\n '_count_vocab',\n '_get_default_requests',\n '_get_metadata_request',\n '_get_param_names',\n '_get_tags',\n '_limit_features',\n '_more_tags',\n '_parameter_constraints',\n '_repr_html_',\n '_repr_html_inner',\n '_repr_mimebundle_',\n '_sort_features',\n '_stop_words_id',\n '_validate_data',\n '_validate_ngram_range',\n '_validate_params',\n '_validate_vocabulary',\n '_warn_for_unused_params',\n '_white_spaces',\n '_word_ngrams',\n 'analyzer',\n 'binary',\n 'build_analyzer',\n 'build_preprocessor',\n 'build_tokenizer',\n 'decode',\n 'decode_error',\n 'dtype',\n 'encoding',\n 'fit',\n 'fit_transform',\n 'fixed_vocabulary_',\n 'get_feature_names_out',\n 'get_metadata_routing',\n 'get_params',\n 'get_stop_words',\n 'input',\n 'inverse_transform',\n 'lowercase',\n 'max_df',\n 'max_features',\n 'min_df',\n 'ngram_range',\n 'preprocessor',\n 'set_fit_request',\n 'set_params',\n 'set_transform_request',\n 'stop_words',\n 'stop_words_',\n 'strip_accents',\n 'token_pattern',\n 'tokenizer',\n 'transform',\n 'vocabulary',\n 'vocabulary_']"
     },
     "execution_count": 28,
     "metadata": {},
     "output_type": "execute_result"
    }
   ],
   "source": [
    "dir(binary_vectorizer)"
   ],
   "metadata": {
    "collapsed": false,
    "ExecuteTime": {
     "end_time": "2024-05-30T20:45:18.179017Z",
     "start_time": "2024-05-30T20:45:18.174421Z"
    }
   },
   "execution_count": 28
  },
  {
   "cell_type": "code",
   "execution_count": 30,
   "metadata": {
    "ExecuteTime": {
     "end_time": "2024-05-30T20:46:21.190064Z",
     "start_time": "2024-05-30T20:46:21.172793Z"
    }
   },
   "outputs": [],
   "source": [
    "tokens_dtm = binary_vectorizer.get_feature_names_out()"
   ]
  },
  {
   "cell_type": "markdown",
   "metadata": {},
   "source": [
    "#### CountVectorizer skips certain tokens by default"
   ]
  },
  {
   "cell_type": "code",
   "execution_count": 31,
   "metadata": {
    "ExecuteTime": {
     "end_time": "2024-05-30T20:46:21.611399Z",
     "start_time": "2024-05-30T20:46:21.555995Z"
    }
   },
   "outputs": [
    {
     "data": {
      "text/plain": "Index(['!', '\"', '\"\"unconscionable,', '\"'I', '\"'Oh', '\"'We', '\"'You', '\"(When',\n       '\"...it', '\"100%',\n       ...\n       'Â£900m', 'Â£910m).', 'Â£93.6bn)', 'Â£933m', 'Â£947m', 'Â£960m',\n       'Â£98)', 'Â£99', 'Â£9m', 'Â£9m,'],\n      dtype='object', length=47927)"
     },
     "execution_count": 31,
     "metadata": {},
     "output_type": "execute_result"
    }
   ],
   "source": [
    "tokens.index.difference(pd.Index(tokens_dtm))"
   ]
  },
  {
   "cell_type": "markdown",
   "metadata": {},
   "source": [
    "#### Persist Result"
   ]
  },
  {
   "cell_type": "code",
   "execution_count": 32,
   "metadata": {
    "ExecuteTime": {
     "end_time": "2024-05-30T20:46:21.616143Z",
     "start_time": "2024-05-30T20:46:21.613197Z"
    }
   },
   "outputs": [],
   "source": [
    "results_path = Path('results', 'bbc')\n",
    "if not results_path.exists():\n",
    "    results_path.mkdir(parents=True)"
   ]
  },
  {
   "cell_type": "code",
   "execution_count": 33,
   "metadata": {
    "ExecuteTime": {
     "end_time": "2024-05-30T20:46:21.797830Z",
     "start_time": "2024-05-30T20:46:21.648188Z"
    }
   },
   "outputs": [],
   "source": [
    "dtm_path = results_path / 'binary_dtm.npz'\n",
    "if not dtm_path.exists():\n",
    "    sparse.save_npz(dtm_path, binary_dtm)"
   ]
  },
  {
   "cell_type": "code",
   "execution_count": 34,
   "metadata": {
    "ExecuteTime": {
     "end_time": "2024-05-30T20:46:21.831757Z",
     "start_time": "2024-05-30T20:46:21.800090Z"
    }
   },
   "outputs": [],
   "source": [
    "token_path = results_path / 'tokens.csv'\n",
    "if not token_path.exists():\n",
    "    pd.Series(tokens_dtm).to_csv(token_path, index=False)\n",
    "else:\n",
    "    tokens = pd.read_csv(token_path, header=None, squeeze=True)"
   ]
  },
  {
   "cell_type": "code",
   "execution_count": 35,
   "metadata": {
    "ExecuteTime": {
     "end_time": "2024-05-30T20:46:21.837662Z",
     "start_time": "2024-05-30T20:46:21.833274Z"
    }
   },
   "outputs": [],
   "source": [
    "doc_freq = pd.Series(np.array(binary_dtm.sum(axis=0)).squeeze()).div(n_docs)\n",
    "max_unique_tokens = np.array(binary_dtm.sum(axis=1)).squeeze().max()"
   ]
  },
  {
   "cell_type": "markdown",
   "metadata": {},
   "source": [
    "### `min_df` vs `max_df`: Interactive Visualization"
   ]
  },
  {
   "cell_type": "markdown",
   "metadata": {},
   "source": [
    "The notebook contains an interactive visualization that explores the impact of the min_df and max_df settings on the size of the vocabulary. We read the articles into a DataFrame, set the CountVectorizer to produce binary flags and use all tokens, and call its .fit_transform() method to produce a document-term matrix:"
   ]
  },
  {
   "cell_type": "markdown",
   "metadata": {},
   "source": [
    "The visualization shows that requiring tokens to appear in at least 1%  and less than 50% of documents restricts the vocabulary to around 10% of the almost 30K tokens. \n",
    "This leaves a mode of slightly over 100 unique tokens per document (left panel), and the right panel shows the document frequency histogram for the remaining tokens."
   ]
  },
  {
   "cell_type": "code",
   "execution_count": 38,
   "metadata": {
    "ExecuteTime": {
     "end_time": "2024-05-30T20:47:56.094414Z",
     "start_time": "2024-05-30T20:47:54.773105Z"
    }
   },
   "outputs": [
    {
     "data": {
      "text/plain": "interactive(children=(FloatRangeSlider(value=(0.0, 1.0), description='Doc. Freq.', layout=Layout(width='800px'…",
      "application/vnd.jupyter.widget-view+json": {
       "version_major": 2,
       "version_minor": 0,
       "model_id": "5a2c5cb5457d493aa36536ddc5be5a60"
      }
     },
     "metadata": {},
     "output_type": "display_data"
    }
   ],
   "source": [
    "df_range = FloatRangeSlider(value=[0.0, 1.0],\n",
    "                            min=0,\n",
    "                            max=1,\n",
    "                            step=0.0001,\n",
    "                            description='Doc. Freq.',\n",
    "                            disabled=False,\n",
    "                            continuous_update=True,\n",
    "                            orientation='horizontal',\n",
    "                            readout=True,\n",
    "                            readout_format='.1%',\n",
    "                            layout={'width': '800px'})\n",
    "\n",
    "@interact(df_range=df_range)\n",
    "def document_frequency_simulator(df_range):\n",
    "    min_df, max_df = df_range\n",
    "    keep = doc_freq.between(left=min_df, right=max_df)\n",
    "    left = keep.sum()\n",
    "\n",
    "    fig, axes = plt.subplots(ncols=2, figsize=(14, 6))\n",
    "\n",
    "    updated_dtm = binary_dtm.tocsc()[:, np.flatnonzero(keep)]\n",
    "    unique_tokens_per_doc = np.array(updated_dtm.sum(axis=1)).squeeze()\n",
    "    sns.distplot(unique_tokens_per_doc, ax=axes[0], kde=False, norm_hist=False)\n",
    "    axes[0].set_title('Unique Tokens per Doc')\n",
    "    axes[0].set_yscale('log')\n",
    "    axes[0].set_xlabel('# Unique Tokens')\n",
    "    axes[0].set_ylabel('# Documents (log scale)')\n",
    "    axes[0].set_xlim(0, max_unique_tokens)    \n",
    "    axes[0].yaxis.set_major_formatter(ScalarFormatter())\n",
    "\n",
    "    term_freq = pd.Series(np.array(updated_dtm.sum(axis=0)).squeeze())\n",
    "    sns.distplot(term_freq, ax=axes[1], kde=False, norm_hist=False)\n",
    "    axes[1].set_title('Document Frequency')\n",
    "    axes[1].set_ylabel('# Tokens')\n",
    "    axes[1].set_xlabel('# Documents')\n",
    "    axes[1].set_yscale('log')\n",
    "    axes[1].set_xlim(0, n_docs)\n",
    "    axes[1].yaxis.set_major_formatter(ScalarFormatter())\n",
    "\n",
    "    title = f'Document/Term Frequency Distribution | # Tokens: {left:,d} ({left/n_tokens:.2%})'\n",
    "    fig.suptitle(title, fontsize=14)\n",
    "    sns.despine()\n",
    "    fig.tight_layout()\n",
    "    fig.subplots_adjust(top=.9)"
   ]
  },
  {
   "cell_type": "markdown",
   "metadata": {},
   "source": [
    "### Most similar documents"
   ]
  },
  {
   "cell_type": "markdown",
   "metadata": {},
   "source": [
    "The CountVectorizer result lets us find the most similar documents using the `pdist()` function for pairwise distances provided by the `scipy.spatial.distance` module. \n",
    "\n",
    "It returns a  condensed distance matrix with entries corresponding to the upper triangle of a square matrix. \n",
    "\n",
    "We use `np.triu_indices()` to translate the index that minimizes the distance to the row and column indices that in turn correspond to the closest token vectors. "
   ]
  },
  {
   "cell_type": "code",
   "execution_count": 39,
   "metadata": {
    "ExecuteTime": {
     "end_time": "2024-05-30T20:50:26.423676Z",
     "start_time": "2024-05-30T20:48:59.144438Z"
    }
   },
   "outputs": [],
   "source": [
    "m = binary_dtm.todense()\n",
    "pairwise_distances = pdist(m, metric='cosine')"
   ]
  },
  {
   "cell_type": "code",
   "execution_count": 40,
   "metadata": {
    "ExecuteTime": {
     "end_time": "2024-05-30T20:50:26.436098Z",
     "start_time": "2024-05-30T20:50:26.426484Z"
    }
   },
   "outputs": [],
   "source": [
    "closest = np.argmin(pairwise_distances)"
   ]
  },
  {
   "cell_type": "code",
   "execution_count": 41,
   "metadata": {
    "ExecuteTime": {
     "end_time": "2024-05-30T20:50:26.475177Z",
     "start_time": "2024-05-30T20:50:26.437954Z"
    }
   },
   "outputs": [
    {
     "data": {
      "text/plain": "(6, 245)"
     },
     "execution_count": 41,
     "metadata": {},
     "output_type": "execute_result"
    }
   ],
   "source": [
    "rows, cols = np.triu_indices(n_docs)\n",
    "rows[closest], cols[closest]"
   ]
  },
  {
   "cell_type": "code",
   "execution_count": 42,
   "metadata": {
    "ExecuteTime": {
     "end_time": "2024-05-30T20:50:26.486071Z",
     "start_time": "2024-05-30T20:50:26.479001Z"
    }
   },
   "outputs": [],
   "source": [
    "docs.iloc[6].to_frame(6).join(docs.iloc[245].to_frame(245)).to_csv(results_path / 'most_similar.csv')"
   ]
  },
  {
   "cell_type": "code",
   "execution_count": 43,
   "metadata": {
    "ExecuteTime": {
     "end_time": "2024-05-30T20:50:26.493216Z",
     "start_time": "2024-05-30T20:50:26.487737Z"
    }
   },
   "outputs": [
    {
     "data": {
      "text/plain": "topic                                               business\nheading                     Jobs growth still slow in the US\nbody       The US created fewer jobs than expected in Jan...\nName: 6, dtype: object"
     },
     "execution_count": 43,
     "metadata": {},
     "output_type": "execute_result"
    }
   ],
   "source": [
    "docs.iloc[6]"
   ]
  },
  {
   "cell_type": "code",
   "execution_count": 44,
   "metadata": {
    "ExecuteTime": {
     "end_time": "2024-05-30T20:50:26.502725Z",
     "start_time": "2024-05-30T20:50:26.494788Z"
    }
   },
   "outputs": [
    {
     "data": {
      "text/plain": "0    28972\n1      265\n2       38\nName: count, dtype: int64"
     },
     "execution_count": 44,
     "metadata": {},
     "output_type": "execute_result"
    }
   ],
   "source": [
    "pd.DataFrame(binary_dtm[[6, 245], :].todense()).sum(0).value_counts()"
   ]
  },
  {
   "cell_type": "markdown",
   "metadata": {
    "slideshow": {
     "slide_type": "slide"
    }
   },
   "source": [
    "### Baseline document-term matrix"
   ]
  },
  {
   "cell_type": "code",
   "execution_count": 45,
   "metadata": {
    "slideshow": {
     "slide_type": "fragment"
    },
    "ExecuteTime": {
     "end_time": "2024-05-30T20:50:27.037400Z",
     "start_time": "2024-05-30T20:50:26.504283Z"
    }
   },
   "outputs": [
    {
     "data": {
      "text/plain": "<2225x29275 sparse matrix of type '<class 'numpy.int64'>'\n\twith 445870 stored elements in Compressed Sparse Row format>"
     },
     "execution_count": 45,
     "metadata": {},
     "output_type": "execute_result"
    }
   ],
   "source": [
    "# Baseline: number of unique tokens\n",
    "vectorizer = CountVectorizer() # default: binary=False\n",
    "doc_term_matrix = vectorizer.fit_transform(docs.body)\n",
    "doc_term_matrix"
   ]
  },
  {
   "cell_type": "code",
   "execution_count": 46,
   "metadata": {
    "slideshow": {
     "slide_type": "fragment"
    },
    "ExecuteTime": {
     "end_time": "2024-05-30T20:50:27.043630Z",
     "start_time": "2024-05-30T20:50:27.038865Z"
    }
   },
   "outputs": [
    {
     "data": {
      "text/plain": "(2225, 29275)"
     },
     "execution_count": 46,
     "metadata": {},
     "output_type": "execute_result"
    }
   ],
   "source": [
    "doc_term_matrix.shape"
   ]
  },
  {
   "cell_type": "markdown",
   "metadata": {
    "slideshow": {
     "slide_type": "slide"
    }
   },
   "source": [
    "### Inspect tokens"
   ]
  },
  {
   "cell_type": "code",
   "execution_count": 52,
   "metadata": {
    "slideshow": {
     "slide_type": "fragment"
    },
    "ExecuteTime": {
     "end_time": "2024-05-30T20:52:06.180310Z",
     "start_time": "2024-05-30T20:52:06.161758Z"
    }
   },
   "outputs": [
    {
     "data": {
      "text/plain": "array(['00', '000', '0001', '000bn', '000m', '000s', '000th', '001',\n       '001and', '001st'], dtype=object)"
     },
     "execution_count": 52,
     "metadata": {},
     "output_type": "execute_result"
    }
   ],
   "source": [
    "# vectorizer keeps words\n",
    "words = vectorizer.get_feature_names_out()\n",
    "words[:10]"
   ]
  },
  {
   "cell_type": "markdown",
   "metadata": {
    "slideshow": {
     "slide_type": "slide"
    }
   },
   "source": [
    "### Inspect doc-term matrix"
   ]
  },
  {
   "cell_type": "code",
   "execution_count": 53,
   "metadata": {
    "slideshow": {
     "slide_type": "fragment"
    },
    "ExecuteTime": {
     "end_time": "2024-05-30T20:52:07.589017Z",
     "start_time": "2024-05-30T20:52:06.428140Z"
    }
   },
   "outputs": [
    {
     "data": {
      "text/plain": "   00  000  0001  000bn  000m  000s  000th  001  001and  001st  ...  zooms  \\\n0   0    1     0      0     0     0      0    0       0      0  ...      0   \n1   0    0     0      0     0     0      0    0       0      0  ...      0   \n2   0    0     0      0     0     0      0    0       0      0  ...      0   \n3   0    1     0      0     0     0      0    0       0      0  ...      0   \n4   0    0     0      0     0     0      0    0       0      0  ...      0   \n\n   zooropa  zornotza  zorro  zubair  zuluaga  zurich  zutons  zvonareva  \\\n0        0         0      0       0        0       0       0          0   \n1        0         0      0       0        0       0       0          0   \n2        0         0      0       0        0       0       0          0   \n3        0         0      0       0        0       0       0          0   \n4        0         0      0       0        0       0       0          0   \n\n   zvyagintsev  \n0            0  \n1            0  \n2            0  \n3            0  \n4            0  \n\n[5 rows x 29275 columns]",
      "text/html": "<div>\n<style scoped>\n    .dataframe tbody tr th:only-of-type {\n        vertical-align: middle;\n    }\n\n    .dataframe tbody tr th {\n        vertical-align: top;\n    }\n\n    .dataframe thead th {\n        text-align: right;\n    }\n</style>\n<table border=\"1\" class=\"dataframe\">\n  <thead>\n    <tr style=\"text-align: right;\">\n      <th></th>\n      <th>00</th>\n      <th>000</th>\n      <th>0001</th>\n      <th>000bn</th>\n      <th>000m</th>\n      <th>000s</th>\n      <th>000th</th>\n      <th>001</th>\n      <th>001and</th>\n      <th>001st</th>\n      <th>...</th>\n      <th>zooms</th>\n      <th>zooropa</th>\n      <th>zornotza</th>\n      <th>zorro</th>\n      <th>zubair</th>\n      <th>zuluaga</th>\n      <th>zurich</th>\n      <th>zutons</th>\n      <th>zvonareva</th>\n      <th>zvyagintsev</th>\n    </tr>\n  </thead>\n  <tbody>\n    <tr>\n      <th>0</th>\n      <td>0</td>\n      <td>1</td>\n      <td>0</td>\n      <td>0</td>\n      <td>0</td>\n      <td>0</td>\n      <td>0</td>\n      <td>0</td>\n      <td>0</td>\n      <td>0</td>\n      <td>...</td>\n      <td>0</td>\n      <td>0</td>\n      <td>0</td>\n      <td>0</td>\n      <td>0</td>\n      <td>0</td>\n      <td>0</td>\n      <td>0</td>\n      <td>0</td>\n      <td>0</td>\n    </tr>\n    <tr>\n      <th>1</th>\n      <td>0</td>\n      <td>0</td>\n      <td>0</td>\n      <td>0</td>\n      <td>0</td>\n      <td>0</td>\n      <td>0</td>\n      <td>0</td>\n      <td>0</td>\n      <td>0</td>\n      <td>...</td>\n      <td>0</td>\n      <td>0</td>\n      <td>0</td>\n      <td>0</td>\n      <td>0</td>\n      <td>0</td>\n      <td>0</td>\n      <td>0</td>\n      <td>0</td>\n      <td>0</td>\n    </tr>\n    <tr>\n      <th>2</th>\n      <td>0</td>\n      <td>0</td>\n      <td>0</td>\n      <td>0</td>\n      <td>0</td>\n      <td>0</td>\n      <td>0</td>\n      <td>0</td>\n      <td>0</td>\n      <td>0</td>\n      <td>...</td>\n      <td>0</td>\n      <td>0</td>\n      <td>0</td>\n      <td>0</td>\n      <td>0</td>\n      <td>0</td>\n      <td>0</td>\n      <td>0</td>\n      <td>0</td>\n      <td>0</td>\n    </tr>\n    <tr>\n      <th>3</th>\n      <td>0</td>\n      <td>1</td>\n      <td>0</td>\n      <td>0</td>\n      <td>0</td>\n      <td>0</td>\n      <td>0</td>\n      <td>0</td>\n      <td>0</td>\n      <td>0</td>\n      <td>...</td>\n      <td>0</td>\n      <td>0</td>\n      <td>0</td>\n      <td>0</td>\n      <td>0</td>\n      <td>0</td>\n      <td>0</td>\n      <td>0</td>\n      <td>0</td>\n      <td>0</td>\n    </tr>\n    <tr>\n      <th>4</th>\n      <td>0</td>\n      <td>0</td>\n      <td>0</td>\n      <td>0</td>\n      <td>0</td>\n      <td>0</td>\n      <td>0</td>\n      <td>0</td>\n      <td>0</td>\n      <td>0</td>\n      <td>...</td>\n      <td>0</td>\n      <td>0</td>\n      <td>0</td>\n      <td>0</td>\n      <td>0</td>\n      <td>0</td>\n      <td>0</td>\n      <td>0</td>\n      <td>0</td>\n      <td>0</td>\n    </tr>\n  </tbody>\n</table>\n<p>5 rows × 29275 columns</p>\n</div>"
     },
     "execution_count": 53,
     "metadata": {},
     "output_type": "execute_result"
    }
   ],
   "source": [
    "# from scipy compressed sparse row matrix to sparse DataFrame\n",
    "doc_term_matrix_df = pd.DataFrame.sparse.from_spmatrix(doc_term_matrix, columns=words)\n",
    "doc_term_matrix_df.head()"
   ]
  },
  {
   "cell_type": "markdown",
   "metadata": {
    "slideshow": {
     "slide_type": "slide"
    }
   },
   "source": [
    "### Most frequent terms"
   ]
  },
  {
   "cell_type": "code",
   "execution_count": 54,
   "metadata": {
    "slideshow": {
     "slide_type": "fragment"
    },
    "ExecuteTime": {
     "end_time": "2024-05-30T20:52:08.626534Z",
     "start_time": "2024-05-30T20:52:07.591101Z"
    }
   },
   "outputs": [
    {
     "data": {
      "text/plain": "the    52574\nto     24767\nof     19930\nand    18574\nin     17553\ndtype: int64"
     },
     "execution_count": 54,
     "metadata": {},
     "output_type": "execute_result"
    }
   ],
   "source": [
    "word_freq = doc_term_matrix_df.sum(axis=0).astype(int)\n",
    "word_freq.sort_values(ascending=False).head() "
   ]
  },
  {
   "cell_type": "markdown",
   "metadata": {
    "slideshow": {
     "slide_type": "slide"
    }
   },
   "source": [
    "### Compute relative term frequency"
   ]
  },
  {
   "cell_type": "code",
   "execution_count": 55,
   "metadata": {
    "slideshow": {
     "slide_type": "fragment"
    },
    "ExecuteTime": {
     "end_time": "2024-05-30T20:52:09.090775Z",
     "start_time": "2024-05-30T20:52:08.627884Z"
    }
   },
   "outputs": [
    {
     "data": {
      "text/plain": "(2225, 29275)"
     },
     "execution_count": 55,
     "metadata": {},
     "output_type": "execute_result"
    }
   ],
   "source": [
    "vectorizer = CountVectorizer(binary=True)\n",
    "doc_term_matrix = vectorizer.fit_transform(docs.body)\n",
    "doc_term_matrix.shape"
   ]
  },
  {
   "cell_type": "code",
   "execution_count": 57,
   "metadata": {
    "slideshow": {
     "slide_type": "slide"
    },
    "ExecuteTime": {
     "end_time": "2024-05-30T20:52:32.170383Z",
     "start_time": "2024-05-30T20:52:32.147558Z"
    }
   },
   "outputs": [
    {
     "data": {
      "text/plain": "the     1.000000\nto      0.995056\nof      0.991461\nand     0.991011\nin      0.990562\nfor     0.930337\non      0.906517\nis      0.862472\nit      0.858427\nsaid    0.848539\ndtype: float64"
     },
     "execution_count": 57,
     "metadata": {},
     "output_type": "execute_result"
    }
   ],
   "source": [
    "words = vectorizer.get_feature_names_out()\n",
    "word_freq = doc_term_matrix.sum(axis=0)\n",
    "\n",
    "# reduce to 1D array\n",
    "word_freq_1d = np.squeeze(np.asarray(word_freq))\n",
    "\n",
    "pd.Series(word_freq_1d, index=words).div(\n",
    "    docs.shape[0]).sort_values(ascending=False).head(10)"
   ]
  },
  {
   "cell_type": "markdown",
   "metadata": {
    "slideshow": {
     "slide_type": "slide"
    }
   },
   "source": [
    "### Visualize Doc-Term Matrix"
   ]
  },
  {
   "cell_type": "code",
   "execution_count": 58,
   "metadata": {
    "slideshow": {
     "slide_type": "fragment"
    },
    "ExecuteTime": {
     "end_time": "2024-05-30T20:53:44.391967Z",
     "start_time": "2024-05-30T20:52:38.298606Z"
    }
   },
   "outputs": [
    {
     "data": {
      "text/plain": "<Figure size 1400x800 with 2 Axes>",
      "image/png": "[encoded data removed]"
     },
     "metadata": {},
     "output_type": "display_data"
    }
   ],
   "source": [
    "sns.heatmap(pd.DataFrame(doc_term_matrix.todense(), columns=words), cmap='Blues')\n",
    "plt.gcf().set_size_inches(14, 8);"
   ]
  },
  {
   "cell_type": "markdown",
   "metadata": {
    "slideshow": {
     "slide_type": "slide"
    }
   },
   "source": [
    "### Using thresholds to reduce the number of tokens "
   ]
  },
  {
   "cell_type": "code",
   "execution_count": 59,
   "metadata": {
    "slideshow": {
     "slide_type": "fragment"
    },
    "ExecuteTime": {
     "end_time": "2024-05-30T20:53:44.904569Z",
     "start_time": "2024-05-30T20:53:44.395955Z"
    }
   },
   "outputs": [
    {
     "data": {
      "text/plain": "(2225, 12789)"
     },
     "execution_count": 59,
     "metadata": {},
     "output_type": "execute_result"
    }
   ],
   "source": [
    "vectorizer = CountVectorizer(max_df=.2, min_df=3, stop_words='english')\n",
    "doc_term_matrix = vectorizer.fit_transform(docs.body)\n",
    "doc_term_matrix.shape"
   ]
  },
  {
   "cell_type": "markdown",
   "metadata": {
    "slideshow": {
     "slide_type": "slide"
    }
   },
   "source": [
    "### Use CountVectorizer with Lemmatization"
   ]
  },
  {
   "cell_type": "markdown",
   "metadata": {
    "slideshow": {
     "slide_type": "fragment"
    }
   },
   "source": [
    "#### Building a custom `tokenizer` for Lemmatization with `spacy`"
   ]
  },
  {
   "cell_type": "code",
   "execution_count": 62,
   "metadata": {
    "slideshow": {
     "slide_type": "fragment"
    },
    "ExecuteTime": {
     "end_time": "2024-05-30T20:54:36.639348Z",
     "start_time": "2024-05-30T20:54:36.263487Z"
    }
   },
   "outputs": [],
   "source": [
    "nlp = spacy.load('en_core_web_sm')\n",
    "def tokenizer(doc):\n",
    "    return [w.lemma_ for w in nlp(doc) \n",
    "                if not w.is_punct | w.is_space]"
   ]
  },
  {
   "cell_type": "code",
   "execution_count": 63,
   "metadata": {
    "run_control": {
     "marked": false
    },
    "slideshow": {
     "slide_type": "slide"
    },
    "ExecuteTime": {
     "end_time": "2024-05-30T20:56:07.294535Z",
     "start_time": "2024-05-30T20:54:36.641286Z"
    }
   },
   "outputs": [
    {
     "name": "stderr",
     "output_type": "stream",
     "text": [
      "/opt/anaconda3/envs/ml4t/lib/python3.8/site-packages/sklearn/feature_extraction/text.py:525: UserWarning: The parameter 'token_pattern' will not be used since 'tokenizer' is not None'\n",
      "  warnings.warn(\n"
     ]
    },
    {
     "data": {
      "text/plain": "(2225, 25159)"
     },
     "execution_count": 63,
     "metadata": {},
     "output_type": "execute_result"
    }
   ],
   "source": [
    "vectorizer = CountVectorizer(tokenizer=tokenizer, binary=True)\n",
    "doc_term_matrix = vectorizer.fit_transform(docs.body)\n",
    "doc_term_matrix.shape"
   ]
  },
  {
   "cell_type": "code",
   "execution_count": 67,
   "metadata": {
    "slideshow": {
     "slide_type": "fragment"
    },
    "ExecuteTime": {
     "end_time": "2024-05-30T21:00:07.237082Z",
     "start_time": "2024-05-30T21:00:07.214555Z"
    }
   },
   "outputs": [
    {
     "data": {
      "text/plain": "from    0.702022\nbut     0.732135\nas      0.742022\nby      0.765843\nat      0.792809\nwith    0.824719\nthat    0.830562\nit      0.858427\nsay     0.881798\n's      0.896180\non      0.906517\nfor     0.930337\nhave    0.972135\nin      0.990562\nand     0.991011\nof      0.991461\na       0.992809\nto      0.995056\nbe      0.998202\nthe     1.000000\ndtype: float64"
     },
     "execution_count": 67,
     "metadata": {},
     "output_type": "execute_result"
    }
   ],
   "source": [
    "lemmatized_words = vectorizer.get_feature_names_out()\n",
    "word_freq = doc_term_matrix.sum(axis=0)\n",
    "word_freq_1d = np.squeeze(np.asarray(word_freq))\n",
    "word_freq_1d = pd.Series(word_freq_1d, index=lemmatized_words).div(docs.shape[0])\n",
    "word_freq_1d.sort_values().tail(20)"
   ]
  },
  {
   "cell_type": "markdown",
   "metadata": {
    "slideshow": {
     "slide_type": "fragment"
    }
   },
   "source": [
    "Unlike verbs and common nouns, there's no clear base form of a personal pronoun. Should the lemma of \"me\" be \"I\", or should we normalize person as well, giving \"it\" — or maybe \"he\"? spaCy's solution is to introduce a novel symbol, -PRON-, which is used as the lemma for all personal pronouns."
   ]
  },
  {
   "cell_type": "markdown",
   "metadata": {
    "slideshow": {
     "slide_type": "slide"
    }
   },
   "source": [
    "## Document-Term Matrix with `TfIDFVectorizer`"
   ]
  },
  {
   "cell_type": "markdown",
   "metadata": {},
   "source": [
    "The TfIDFTransfomer computes the tf-idf weights from a document-term matrix of token counts like the one produced by the CountVectorizer. \n",
    "\n",
    "The TfIDFVectorizer performs both computations in a single step. It adds a few parameters to the CountVectorizer API that controls the smoothing behavior."
   ]
  },
  {
   "cell_type": "markdown",
   "metadata": {},
   "source": [
    "### Key Parameters"
   ]
  },
  {
   "cell_type": "markdown",
   "metadata": {},
   "source": [
    "The `TfIDFTransformer` builds on the `CountVectorizer` output; the `TfIDFVectorizer` integrates both"
   ]
  },
  {
   "cell_type": "code",
   "execution_count": 68,
   "metadata": {
    "slideshow": {
     "slide_type": "fragment"
    },
    "ExecuteTime": {
     "end_time": "2024-05-30T21:00:07.501204Z",
     "start_time": "2024-05-30T21:00:07.497187Z"
    }
   },
   "outputs": [
    {
     "name": "stdout",
     "output_type": "stream",
     "text": [
      "Transform a count matrix to a normalized tf or tf-idf representation.\n",
      "\n",
      "    Tf means term-frequency while tf-idf means term-frequency times inverse\n",
      "    document-frequency. This is a common term weighting scheme in information\n",
      "    retrieval, that has also found good use in document classification.\n",
      "\n",
      "    The goal of using tf-idf instead of the raw frequencies of occurrence of a\n",
      "    token in a given document is to scale down the impact of tokens that occur\n",
      "    very frequently in a given corpus and that are hence empirically less\n",
      "    informative than features that occur in a small fraction of the training\n",
      "    corpus.\n",
      "\n",
      "    The formula that is used to compute the tf-idf for a term t of a document d\n",
      "    in a document set is tf-idf(t, d) = tf(t, d) * idf(t), and the idf is\n",
      "    computed as idf(t) = log [ n / df(t) ] + 1 (if ``smooth_idf=False``), where\n",
      "    n is the total number of documents in the document set and df(t) is the\n",
      "    document frequency of t; the document frequency is the number of documents\n",
      "    in the document set that contain the term t. The effect of adding \"1\" to\n",
      "    the idf in the equation above is that terms with zero idf, i.e., terms\n",
      "    that occur in all documents in a training set, will not be entirely\n",
      "    ignored.\n",
      "    (Note that the idf formula above differs from the standard textbook\n",
      "    notation that defines the idf as\n",
      "    idf(t) = log [ n / (df(t) + 1) ]).\n",
      "\n",
      "    If ``smooth_idf=True`` (the default), the constant \"1\" is added to the\n",
      "    numerator and denominator of the idf as if an extra document was seen\n",
      "    containing every term in the collection exactly once, which prevents\n",
      "    zero divisions: idf(t) = log [ (1 + n) / (1 + df(t)) ] + 1.\n",
      "\n",
      "    Furthermore, the formulas used to compute tf and idf depend\n",
      "    on parameter settings that correspond to the SMART notation used in IR\n",
      "    as follows:\n",
      "\n",
      "    Tf is \"n\" (natural) by default, \"l\" (logarithmic) when\n",
      "    ``sublinear_tf=True``.\n",
      "    Idf is \"t\" when use_idf is given, \"n\" (none) otherwise.\n",
      "    Normalization is \"c\" (cosine) when ``norm='l2'``, \"n\" (none)\n",
      "    when ``norm=None``.\n",
      "\n",
      "    Read more in the :ref:`User Guide <text_feature_extraction>`.\n",
      "\n",
      "    Parameters\n",
      "    ----------\n",
      "    norm : {'l1', 'l2'} or None, default='l2'\n",
      "        Each output row will have unit norm, either:\n",
      "\n",
      "        - 'l2': Sum of squares of vector elements is 1. The cosine\n",
      "          similarity between two vectors is their dot product when l2 norm has\n",
      "          been applied.\n",
      "        - 'l1': Sum of absolute values of vector elements is 1.\n",
      "          See :func:`~sklearn.preprocessing.normalize`.\n",
      "        - None: No normalization.\n",
      "\n",
      "    use_idf : bool, default=True\n",
      "        Enable inverse-document-frequency reweighting. If False, idf(t) = 1.\n",
      "\n",
      "    smooth_idf : bool, default=True\n",
      "        Smooth idf weights by adding one to document frequencies, as if an\n",
      "        extra document was seen containing every term in the collection\n",
      "        exactly once. Prevents zero divisions.\n",
      "\n",
      "    sublinear_tf : bool, default=False\n",
      "        Apply sublinear tf scaling, i.e. replace tf with 1 + log(tf).\n",
      "\n",
      "    Attributes\n",
      "    ----------\n",
      "    idf_ : array of shape (n_features)\n",
      "        The inverse document frequency (IDF) vector; only defined\n",
      "        if  ``use_idf`` is True.\n",
      "\n",
      "        .. versionadded:: 0.20\n",
      "\n",
      "    n_features_in_ : int\n",
      "        Number of features seen during :term:`fit`.\n",
      "\n",
      "        .. versionadded:: 1.0\n",
      "\n",
      "    feature_names_in_ : ndarray of shape (`n_features_in_`,)\n",
      "        Names of features seen during :term:`fit`. Defined only when `X`\n",
      "        has feature names that are all strings.\n",
      "\n",
      "        .. versionadded:: 1.0\n",
      "\n",
      "    See Also\n",
      "    --------\n",
      "    CountVectorizer : Transforms text into a sparse matrix of n-gram counts.\n",
      "\n",
      "    TfidfVectorizer : Convert a collection of raw documents to a matrix of\n",
      "        TF-IDF features.\n",
      "\n",
      "    HashingVectorizer : Convert a collection of text documents to a matrix\n",
      "        of token occurrences.\n",
      "\n",
      "    References\n",
      "    ----------\n",
      "    .. [Yates2011] R. Baeza-Yates and B. Ribeiro-Neto (2011). Modern\n",
      "                   Information Retrieval. Addison Wesley, pp. 68-74.\n",
      "\n",
      "    .. [MRS2008] C.D. Manning, P. Raghavan and H. Schütze  (2008).\n",
      "                   Introduction to Information Retrieval. Cambridge University\n",
      "                   Press, pp. 118-120.\n",
      "\n",
      "    Examples\n",
      "    --------\n",
      "    >>> from sklearn.feature_extraction.text import TfidfTransformer\n",
      "    >>> from sklearn.feature_extraction.text import CountVectorizer\n",
      "    >>> from sklearn.pipeline import Pipeline\n",
      "    >>> corpus = ['this is the first document',\n",
      "    ...           'this document is the second document',\n",
      "    ...           'and this is the third one',\n",
      "    ...           'is this the first document']\n",
      "    >>> vocabulary = ['this', 'document', 'first', 'is', 'second', 'the',\n",
      "    ...               'and', 'one']\n",
      "    >>> pipe = Pipeline([('count', CountVectorizer(vocabulary=vocabulary)),\n",
      "    ...                  ('tfid', TfidfTransformer())]).fit(corpus)\n",
      "    >>> pipe['count'].transform(corpus).toarray()\n",
      "    array([[1, 1, 1, 1, 0, 1, 0, 0],\n",
      "           [1, 2, 0, 1, 1, 1, 0, 0],\n",
      "           [1, 0, 0, 1, 0, 1, 1, 1],\n",
      "           [1, 1, 1, 1, 0, 1, 0, 0]])\n",
      "    >>> pipe['tfid'].idf_\n",
      "    array([1.        , 1.22314355, 1.51082562, 1.        , 1.91629073,\n",
      "           1.        , 1.91629073, 1.91629073])\n",
      "    >>> pipe.transform(corpus).shape\n",
      "    (4, 8)\n",
      "    \n"
     ]
    }
   ],
   "source": [
    "print(TfidfTransformer().__doc__)"
   ]
  },
  {
   "cell_type": "markdown",
   "metadata": {},
   "source": [
    "### How Term Frequency - Inverse Document Frequency works"
   ]
  },
  {
   "cell_type": "markdown",
   "metadata": {},
   "source": [
    "The TFIDF computation works as follows for a small text sample"
   ]
  },
  {
   "cell_type": "code",
   "execution_count": 69,
   "metadata": {
    "ExecuteTime": {
     "end_time": "2024-05-30T21:00:07.532864Z",
     "start_time": "2024-05-30T21:00:07.528892Z"
    }
   },
   "outputs": [],
   "source": [
    "sample_docs = ['call you tomorrow', \n",
    "                'Call me a taxi', \n",
    "                'please call me... PLEASE!']"
   ]
  },
  {
   "cell_type": "markdown",
   "metadata": {
    "ExecuteTime": {
     "end_time": "2018-11-21T14:05:08.089371Z",
     "start_time": "2018-11-21T14:05:08.069616Z"
    }
   },
   "source": [
    "#### Compute term frequency"
   ]
  },
  {
   "cell_type": "code",
   "execution_count": 72,
   "metadata": {
    "ExecuteTime": {
     "end_time": "2024-05-30T21:00:28.789426Z",
     "start_time": "2024-05-30T21:00:28.785259Z"
    }
   },
   "outputs": [],
   "source": [
    "vectorizer = CountVectorizer()\n",
    "tf_dtm = vectorizer.fit_transform(sample_docs).todense()\n",
    "tokens = vectorizer.get_feature_names_out()"
   ]
  },
  {
   "cell_type": "code",
   "execution_count": 73,
   "metadata": {
    "ExecuteTime": {
     "end_time": "2024-05-30T21:00:32.173530Z",
     "start_time": "2024-05-30T21:00:32.167494Z"
    }
   },
   "outputs": [
    {
     "name": "stdout",
     "output_type": "stream",
     "text": [
      "   call  me  please  taxi  tomorrow  you\n",
      "0     1   0       0     0         1    1\n",
      "1     1   1       0     1         0    0\n",
      "2     1   1       2     0         0    0\n"
     ]
    }
   ],
   "source": [
    "term_frequency = pd.DataFrame(data=tf_dtm, \n",
    "                              columns=tokens)\n",
    "print(term_frequency)"
   ]
  },
  {
   "cell_type": "markdown",
   "metadata": {},
   "source": [
    "#### Compute document frequency"
   ]
  },
  {
   "cell_type": "code",
   "execution_count": 74,
   "metadata": {
    "ExecuteTime": {
     "end_time": "2024-05-30T21:00:32.371580Z",
     "start_time": "2024-05-30T21:00:32.367629Z"
    }
   },
   "outputs": [],
   "source": [
    "vectorizer = CountVectorizer(binary=True)\n",
    "df_dtm = vectorizer.fit_transform(sample_docs).todense().sum(axis=0)"
   ]
  },
  {
   "cell_type": "code",
   "execution_count": 75,
   "metadata": {
    "ExecuteTime": {
     "end_time": "2024-05-30T21:00:32.402609Z",
     "start_time": "2024-05-30T21:00:32.397959Z"
    }
   },
   "outputs": [
    {
     "name": "stdout",
     "output_type": "stream",
     "text": [
      "   call  me  please  taxi  tomorrow  you\n",
      "0     3   2       1     1         1    1\n"
     ]
    }
   ],
   "source": [
    "document_frequency = pd.DataFrame(data=df_dtm,\n",
    "                                  columns=tokens)\n",
    "print(document_frequency)"
   ]
  },
  {
   "cell_type": "markdown",
   "metadata": {},
   "source": [
    "#### Compute TfIDF"
   ]
  },
  {
   "cell_type": "code",
   "execution_count": 76,
   "metadata": {
    "ExecuteTime": {
     "end_time": "2024-05-30T21:00:32.476509Z",
     "start_time": "2024-05-30T21:00:32.470983Z"
    }
   },
   "outputs": [
    {
     "name": "stdout",
     "output_type": "stream",
     "text": [
      "       call   me  please  taxi  tomorrow  you\n",
      "0  0.333333  0.0     0.0   0.0       1.0  1.0\n",
      "1  0.333333  0.5     0.0   1.0       0.0  0.0\n",
      "2  0.333333  0.5     2.0   0.0       0.0  0.0\n"
     ]
    }
   ],
   "source": [
    "tfidf = pd.DataFrame(data=tf_dtm/df_dtm, columns=tokens)\n",
    "print(tfidf)"
   ]
  },
  {
   "cell_type": "markdown",
   "metadata": {},
   "source": [
    "#### The effect of smoothing"
   ]
  },
  {
   "cell_type": "markdown",
   "metadata": {
    "ExecuteTime": {
     "end_time": "2018-11-21T14:07:22.382406Z",
     "start_time": "2018-11-21T14:07:22.373832Z"
    }
   },
   "source": [
    "The TfidfVectorizer uses smoothing for document and term frequencies:\n",
    "- `smooth_idf`: add one to document frequency, as if an extra document contained every token in the vocabulary\n",
    "     once to prevents zero divisions\n",
    "- `sublinear_tf`: scale term Apply sublinear tf scaling, i.e. replace tf with 1 + log(tf)"
   ]
  },
  {
   "cell_type": "code",
   "execution_count": 79,
   "metadata": {
    "ExecuteTime": {
     "end_time": "2024-05-30T21:00:48.297910Z",
     "start_time": "2024-05-30T21:00:48.289344Z"
    }
   },
   "outputs": [
    {
     "name": "stdout",
     "output_type": "stream",
     "text": [
      "       call        me    please      taxi  tomorrow       you\n",
      "0  0.385372  0.000000  0.000000  0.000000  0.652491  0.652491\n",
      "1  0.425441  0.547832  0.000000  0.720333  0.000000  0.000000\n",
      "2  0.266075  0.342620  0.901008  0.000000  0.000000  0.000000\n"
     ]
    }
   ],
   "source": [
    "vect = TfidfVectorizer(smooth_idf=True, \n",
    "                       norm='l2',            # squared weights sum to 1 by document\n",
    "                       sublinear_tf=False,   # if True, use 1+log(tf)\n",
    "                       binary=False)\n",
    "print(pd.DataFrame(vect.fit_transform(sample_docs).todense(), \n",
    "             columns=vect.get_feature_names_out()))"
   ]
  },
  {
   "cell_type": "markdown",
   "metadata": {
    "ExecuteTime": {
     "end_time": "2018-11-21T14:10:41.311223Z",
     "start_time": "2018-11-21T14:10:41.298041Z"
    }
   },
   "source": [
    "### TfIDF with new articles"
   ]
  },
  {
   "cell_type": "markdown",
   "metadata": {},
   "source": [
    "Due to their ability to assign meaningful token weights, TFIDF vectors are also used to summarize text data. E.g., reddit's autotldr function is based on a similar algorithm."
   ]
  },
  {
   "cell_type": "code",
   "execution_count": 81,
   "metadata": {
    "slideshow": {
     "slide_type": "slide"
    },
    "ExecuteTime": {
     "end_time": "2024-05-30T21:00:58.837775Z",
     "start_time": "2024-05-30T21:00:58.357470Z"
    }
   },
   "outputs": [
    {
     "data": {
      "text/plain": "(2225, 28980)"
     },
     "execution_count": 81,
     "metadata": {},
     "output_type": "execute_result"
    }
   ],
   "source": [
    "tfidf = TfidfVectorizer(stop_words='english')\n",
    "dtm_tfidf = tfidf.fit_transform(docs.body)\n",
    "tokens = tfidf.get_feature_names_out()\n",
    "dtm_tfidf.shape"
   ]
  },
  {
   "cell_type": "code",
   "execution_count": 82,
   "metadata": {
    "slideshow": {
     "slide_type": "fragment"
    },
    "ExecuteTime": {
     "end_time": "2024-05-30T21:01:03.675967Z",
     "start_time": "2024-05-30T21:01:03.667150Z"
    }
   },
   "outputs": [],
   "source": [
    "token_freq = (pd.DataFrame({'tfidf': dtm_tfidf.sum(axis=0).A1,\n",
    "                            'token': tokens})\n",
    "              .sort_values('tfidf', ascending=False))"
   ]
  },
  {
   "cell_type": "code",
   "execution_count": 83,
   "metadata": {
    "ExecuteTime": {
     "end_time": "2024-05-30T21:01:03.819316Z",
     "start_time": "2024-05-30T21:01:03.796714Z"
    }
   },
   "outputs": [
    {
     "ename": "AttributeError",
     "evalue": "'DataFrame' object has no attribute 'append'",
     "output_type": "error",
     "traceback": [
      "\u001B[0;31m---------------------------------------------------------------------------\u001B[0m",
      "\u001B[0;31mAttributeError\u001B[0m                            Traceback (most recent call last)",
      "\u001B[0;32m/var/folders/dk/_1sjwgvd26d98lxcfzk87jzr0000gn/T/ipykernel_59659/66513192.py\u001B[0m in \u001B[0;36m?\u001B[0;34m()\u001B[0m\n\u001B[0;32m----> 1\u001B[0;31m \u001B[0mtoken_freq\u001B[0m\u001B[0;34m.\u001B[0m\u001B[0mhead\u001B[0m\u001B[0;34m(\u001B[0m\u001B[0;36m10\u001B[0m\u001B[0;34m)\u001B[0m\u001B[0;34m.\u001B[0m\u001B[0mappend\u001B[0m\u001B[0;34m(\u001B[0m\u001B[0mtoken_freq\u001B[0m\u001B[0;34m.\u001B[0m\u001B[0mtail\u001B[0m\u001B[0;34m(\u001B[0m\u001B[0;36m10\u001B[0m\u001B[0;34m)\u001B[0m\u001B[0;34m)\u001B[0m\u001B[0;34m.\u001B[0m\u001B[0mset_index\u001B[0m\u001B[0;34m(\u001B[0m\u001B[0;34m'token'\u001B[0m\u001B[0;34m)\u001B[0m\u001B[0;34m\u001B[0m\u001B[0;34m\u001B[0m\u001B[0m\n\u001B[0m",
      "\u001B[0;32m/opt/anaconda3/envs/ml4t/lib/python3.8/site-packages/pandas/core/generic.py\u001B[0m in \u001B[0;36m?\u001B[0;34m(self, name)\u001B[0m\n\u001B[1;32m   5985\u001B[0m             \u001B[0;32mand\u001B[0m \u001B[0mname\u001B[0m \u001B[0;32mnot\u001B[0m \u001B[0;32min\u001B[0m \u001B[0mself\u001B[0m\u001B[0;34m.\u001B[0m\u001B[0m_accessors\u001B[0m\u001B[0;34m\u001B[0m\u001B[0;34m\u001B[0m\u001B[0m\n\u001B[1;32m   5986\u001B[0m             \u001B[0;32mand\u001B[0m \u001B[0mself\u001B[0m\u001B[0;34m.\u001B[0m\u001B[0m_info_axis\u001B[0m\u001B[0;34m.\u001B[0m\u001B[0m_can_hold_identifiers_and_holds_name\u001B[0m\u001B[0;34m(\u001B[0m\u001B[0mname\u001B[0m\u001B[0;34m)\u001B[0m\u001B[0;34m\u001B[0m\u001B[0;34m\u001B[0m\u001B[0m\n\u001B[1;32m   5987\u001B[0m         ):\n\u001B[1;32m   5988\u001B[0m             \u001B[0;32mreturn\u001B[0m \u001B[0mself\u001B[0m\u001B[0;34m[\u001B[0m\u001B[0mname\u001B[0m\u001B[0;34m]\u001B[0m\u001B[0;34m\u001B[0m\u001B[0;34m\u001B[0m\u001B[0m\n\u001B[0;32m-> 5989\u001B[0;31m         \u001B[0;32mreturn\u001B[0m \u001B[0mobject\u001B[0m\u001B[0;34m.\u001B[0m\u001B[0m__getattribute__\u001B[0m\u001B[0;34m(\u001B[0m\u001B[0mself\u001B[0m\u001B[0;34m,\u001B[0m \u001B[0mname\u001B[0m\u001B[0;34m)\u001B[0m\u001B[0;34m\u001B[0m\u001B[0;34m\u001B[0m\u001B[0m\n\u001B[0m",
      "\u001B[0;31mAttributeError\u001B[0m: 'DataFrame' object has no attribute 'append'"
     ]
    }
   ],
   "source": [
    "token_freq.head(10).append(token_freq.tail(10)).set_index('token')"
   ]
  },
  {
   "cell_type": "markdown",
   "metadata": {},
   "source": [
    "### Summarizing news articles using TfIDF weights"
   ]
  },
  {
   "cell_type": "markdown",
   "metadata": {},
   "source": [
    "#### Select random article"
   ]
  },
  {
   "cell_type": "code",
   "execution_count": 91,
   "metadata": {
    "ExecuteTime": {
     "end_time": "2024-05-30T21:01:41.454726Z",
     "start_time": "2024-05-30T21:01:41.451604Z"
    }
   },
   "outputs": [],
   "source": [
    "article = docs.sample(1).squeeze()\n",
    "article_id = article.name"
   ]
  },
  {
   "cell_type": "code",
   "execution_count": 92,
   "metadata": {
    "scrolled": true,
    "ExecuteTime": {
     "end_time": "2024-05-30T21:01:41.580551Z",
     "start_time": "2024-05-30T21:01:41.577430Z"
    }
   },
   "outputs": [
    {
     "name": "stdout",
     "output_type": "stream",
     "text": [
      "Topic:\tTech\n",
      "\n",
      "Google's toolbar sparks concern\n",
      "\n",
      "Search engine firm Google has released a trial tool which is concerning some net users because it directs people to pre-selected commercial websites.  The AutoLink feature comes with Google's latest toolbar and provides links in a webpage to Amazon.com if it finds a book's ISBN number on the site. It also links to Google's map service, if there is an address, or to car firm Carfax, if there is a licence plate. Google said the feature, available only in the US, \"adds useful links\". But some users are concerned that Google's dominant position in the search engine market place could mean it would be giving a competitive edge to firms like Amazon.  AutoLink works by creating a link to a website based on information contained in a webpage - even if there is no link specified and whether or not the publisher of the page has given permission.  If a user clicks the AutoLink feature in the Google toolbar then a webpage with a book's unique ISBN number would link directly to Amazon's website. It could mean online libraries that list ISBN book numbers find they are directing users to Amazon.com whether they like it or not. Websites which have paid for advertising on their pages may also be directing people to rival services. Dan Gillmor, founder of Grassroots Media, which supports citizen-based media, said the tool was a \"bad idea, and an unfortunate move by a company that is looking to continue its hypergrowth\". In a statement Google said the feature was still only in beta, ie trial, stage and that the company welcomed feedback from users. It said: \"The user can choose never to click on the AutoLink button, and web pages she views will never be modified. \"In addition, the user can choose to disable the AutoLink feature entirely at any time.\"  The new tool has been compared to the Smart Tags feature from Microsoft by some users. It was widely criticised by net users and later dropped by Microsoft after concerns over trademark use were raised. Smart Tags allowed Microsoft to link any word on a web page to another site chosen by the company. Google said none of the companies which received AutoLinks had paid for the service. Some users said AutoLink would only be fair if websites had to sign up to allow the feature to work on their pages or if they received revenue for any \"click through\" to a commercial site. Cory Doctorow, European outreach coordinator for digital civil liberties group Electronic Fronter Foundation, said that Google should not be penalised for its market dominance. \"Of course Google should be allowed to direct people to whatever proxies it chooses. \"But as an end user I would want to know - 'Can I choose to use this service?, 'How much is Google being paid?', 'Can I substitute my own companies for the ones chosen by Google?'.\" Mr Doctorow said the only objection would be if users were forced into using AutoLink or \"tricked into using the service\".\n"
     ]
    }
   ],
   "source": [
    "print(f'Topic:\\t{article.topic.capitalize()}\\n\\n{article.heading}\\n')\n",
    "print(article.body.strip())"
   ]
  },
  {
   "cell_type": "markdown",
   "metadata": {},
   "source": [
    "#### Select most relevant tokens by tfidf value"
   ]
  },
  {
   "cell_type": "code",
   "execution_count": 93,
   "metadata": {
    "ExecuteTime": {
     "end_time": "2024-05-30T21:01:41.615719Z",
     "start_time": "2024-05-30T21:01:41.605709Z"
    }
   },
   "outputs": [
    {
     "data": {
      "text/plain": "google      0.448879\nautolink    0.413903\nfeature     0.233336\nusers       0.208447\nisbn        0.177387\namazon      0.170081\nwebpage     0.149661\nlink        0.148860\nuser        0.143354\npages       0.122390\ndtype: float64"
     },
     "execution_count": 93,
     "metadata": {},
     "output_type": "execute_result"
    }
   ],
   "source": [
    "article_tfidf = dtm_tfidf[article_id].todense().A1\n",
    "article_tokens = pd.Series(article_tfidf, index=tokens)\n",
    "article_tokens.sort_values(ascending=False).head(10)"
   ]
  },
  {
   "cell_type": "markdown",
   "metadata": {},
   "source": [
    "#### Compare to random selection"
   ]
  },
  {
   "cell_type": "code",
   "execution_count": 94,
   "metadata": {
    "ExecuteTime": {
     "end_time": "2024-05-30T21:01:41.692316Z",
     "start_time": "2024-05-30T21:01:41.687325Z"
    }
   },
   "outputs": [
    {
     "data": {
      "text/plain": "['chosen',\n 'works',\n 'net',\n 'choose',\n 'user',\n 'unfortunate',\n 'then',\n 'be',\n 'directly',\n '-']"
     },
     "execution_count": 94,
     "metadata": {},
     "output_type": "execute_result"
    }
   ],
   "source": [
    "pd.Series(article.body.split()).sample(10).tolist()"
   ]
  },
  {
   "cell_type": "markdown",
   "metadata": {
    "slideshow": {
     "slide_type": "slide"
    }
   },
   "source": [
    "## Create Train & Test Sets"
   ]
  },
  {
   "cell_type": "markdown",
   "metadata": {},
   "source": [
    "### Stratified `train_test_split`"
   ]
  },
  {
   "cell_type": "code",
   "execution_count": 95,
   "metadata": {
    "slideshow": {
     "slide_type": "fragment"
    },
    "ExecuteTime": {
     "end_time": "2024-05-30T21:01:41.738417Z",
     "start_time": "2024-05-30T21:01:41.730436Z"
    }
   },
   "outputs": [],
   "source": [
    "train_docs, test_docs = train_test_split(docs, \n",
    "                                         stratify=docs.topic, \n",
    "                                         test_size=50, \n",
    "                                         random_state=42)"
   ]
  },
  {
   "cell_type": "code",
   "execution_count": 96,
   "metadata": {
    "slideshow": {
     "slide_type": "fragment"
    },
    "ExecuteTime": {
     "end_time": "2024-05-30T21:01:41.826488Z",
     "start_time": "2024-05-30T21:01:41.822552Z"
    }
   },
   "outputs": [
    {
     "data": {
      "text/plain": "((2175, 3), (50, 3))"
     },
     "execution_count": 96,
     "metadata": {},
     "output_type": "execute_result"
    }
   ],
   "source": [
    "train_docs.shape, test_docs.shape"
   ]
  },
  {
   "cell_type": "code",
   "execution_count": 97,
   "metadata": {
    "slideshow": {
     "slide_type": "fragment"
    },
    "ExecuteTime": {
     "end_time": "2024-05-30T21:01:41.840388Z",
     "start_time": "2024-05-30T21:01:41.835150Z"
    }
   },
   "outputs": [
    {
     "data": {
      "text/plain": "topic\nsport            12\nbusiness         11\nentertainment     9\ntech              9\npolitics          9\nName: count, dtype: int64"
     },
     "execution_count": 97,
     "metadata": {},
     "output_type": "execute_result"
    }
   ],
   "source": [
    "pd.Series(test_docs.topic).value_counts()"
   ]
  },
  {
   "cell_type": "markdown",
   "metadata": {
    "slideshow": {
     "slide_type": "slide"
    }
   },
   "source": [
    "### Vectorize train & test sets"
   ]
  },
  {
   "cell_type": "code",
   "execution_count": 99,
   "metadata": {
    "slideshow": {
     "slide_type": "fragment"
    },
    "ExecuteTime": {
     "end_time": "2024-05-30T21:02:00.285903Z",
     "start_time": "2024-05-30T21:01:59.647776Z"
    }
   },
   "outputs": [
    {
     "data": {
      "text/plain": "<2175x2000 sparse matrix of type '<class 'numpy.int64'>'\n\twith 178762 stored elements in Compressed Sparse Row format>"
     },
     "execution_count": 99,
     "metadata": {},
     "output_type": "execute_result"
    }
   ],
   "source": [
    "vectorizer = CountVectorizer(max_df=.2, \n",
    "                             min_df=3, \n",
    "                             stop_words='english', \n",
    "                             max_features=2000)\n",
    "\n",
    "train_dtm = vectorizer.fit_transform(train_docs.body)\n",
    "words = vectorizer.get_feature_names_out()\n",
    "train_dtm"
   ]
  },
  {
   "cell_type": "code",
   "execution_count": 100,
   "metadata": {
    "scrolled": true,
    "slideshow": {
     "slide_type": "fragment"
    },
    "ExecuteTime": {
     "end_time": "2024-05-30T21:02:02.631022Z",
     "start_time": "2024-05-30T21:02:02.613717Z"
    }
   },
   "outputs": [
    {
     "data": {
      "text/plain": "<50x2000 sparse matrix of type '<class 'numpy.int64'>'\n\twith 4048 stored elements in Compressed Sparse Row format>"
     },
     "execution_count": 100,
     "metadata": {},
     "output_type": "execute_result"
    }
   ],
   "source": [
    "test_dtm = vectorizer.transform(test_docs.body)\n",
    "test_dtm"
   ]
  }
 ],
 "metadata": {
  "celltoolbar": "Slideshow",
  "hide_input": false,
  "kernelspec": {
   "name": "conda-env-ml4t-py",
   "language": "python",
   "display_name": "Python [conda env:ml4t] *"
  },
  "language_info": {
   "codemirror_mode": {
    "name": "ipython",
    "version": 3
   },
   "file_extension": ".py",
   "mimetype": "text/x-python",
   "name": "python",
   "nbconvert_exporter": "python",
   "pygments_lexer": "ipython3",
   "version": "3.7.7"
  },
  "name": "_merged",
  "toc": {
   "base_numbering": 1,
   "nav_menu": {},
   "number_sections": true,
   "sideBar": true,
   "skip_h1_title": true,
   "title_cell": "Table of Contents",
   "title_sidebar": "Contents",
   "toc_cell": false,
   "toc_position": {
    "height": "379.503px",
    "left": "24px",
    "right": "1064px",
    "top": "66.3352px",
    "width": "343.575px"
   },
   "toc_section_display": true,
   "toc_window_display": true
  }
 },
 "nbformat": 4,
 "nbformat_minor": 2
}
